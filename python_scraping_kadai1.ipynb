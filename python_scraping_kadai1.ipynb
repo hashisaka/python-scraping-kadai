{
  "nbformat": 4,
  "nbformat_minor": 0,
  "metadata": {
    "colab": {
      "provenance": []
    },
    "kernelspec": {
      "name": "python3",
      "display_name": "Python 3"
    },
    "language_info": {
      "name": "python"
    }
  },
  "cells": [
    {
      "cell_type": "code",
      "source": [
        "import requests\n",
        "from bs4 import BeautifulSoup\n",
        "\n",
        "# 解析するURLを指定\n",
        "url_requests = input()\n",
        "\n",
        "# getリクエストを送信して情報を取得\n",
        "response = requests.get(url_requests)\n",
        "\n",
        "# レスポンスが正常であることを確認\n",
        "if response.status_code == 200:\n",
        "\n",
        "    # 取得したhtmlを解析\n",
        "    soup = BeautifulSoup(response.text, 'html.parser')\n",
        "\n",
        "    # 取得するタイトルの要素を指定する\n",
        "    title_element = soup.select_one('#uamods > header > h1')\n",
        "\n",
        "    # タイトルを出力\n",
        "    if title_element:\n",
        "        print('記事のタイトル:', title_element.text)\n",
        "    else:\n",
        "        print('タイトルが見つかりませんでした。')\n",
        "else:\n",
        "    print('ページの取得に失敗しました。ステータスコード:', response.status_code)"
      ],
      "metadata": {
        "colab": {
          "base_uri": "https://localhost:8080/"
        },
        "id": "tS-HOCnsXkro",
        "outputId": "361531ff-ea83-451a-9cc3-1e278a95c609"
      },
      "execution_count": 17,
      "outputs": [
        {
          "output_type": "stream",
          "name": "stdout",
          "text": [
            "https://news.yahoo.co.jp/articles/79f9b99835cfb013f4ac88f90588481a027a14be\n",
            "記事のタイトル: 北朝鮮、25日から外国人の入国許可　中国国営テレビ報道\n"
          ]
        }
      ]
    }
  ]
}