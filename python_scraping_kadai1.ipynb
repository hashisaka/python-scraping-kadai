{
  "nbformat": 4,
  "nbformat_minor": 0,
  "metadata": {
    "colab": {
      "provenance": []
    },
    "kernelspec": {
      "name": "python3",
      "display_name": "Python 3"
    },
    "language_info": {
      "name": "python"
    }
  },
  "cells": [
    {
      "cell_type": "code",
      "source": [
        "import requests\n",
        "from bs4 import BeautifulSoup\n",
        "\n",
        "# 解析するURLを指定\n",
        "url_requests = input()\n",
        "\n",
        "# getリクエストを送信して情報を取得\n",
        "response = requests.get(url_requests)\n",
        "\n",
        "# レスポンスが正常であることを確認\n",
        "if response.status_code == 200:\n",
        "\n",
        "    # 取得したhtmlを解析\n",
        "    soup = BeautifulSoup(response.text, 'html.parser')\n",
        "\n",
        "    # 取得する記事の要素を指定する\n",
        "    article_body = soup.find(\"div\", class_=\"highLightSearchTarget\")\n",
        "\n",
        "    # 記事を出力\n",
        "    if article_body:\n",
        "        article_text = article_body.get_text()\n",
        "        if article_text:\n",
        "            print('記事の内容:', article_text)\n",
        "        else:\n",
        "            print('記事が見つかりませんでした。')\n",
        "    else:\n",
        "        print('記事の本文要素が見つかりませんでした。')\n",
        "else:\n",
        "    print('ページの取得に失敗しました。ステータスコード:', response.status_code)\n",
        "\n"
      ],
      "metadata": {
        "colab": {
          "base_uri": "https://localhost:8080/"
        },
        "id": "tS-HOCnsXkro",
        "outputId": "b7640f61-92ff-49a1-9e3e-7333a4ecab7f"
      },
      "execution_count": 14,
      "outputs": [
        {
          "output_type": "stream",
          "name": "stdout",
          "text": [
            "https://news.yahoo.co.jp/articles/2f3637fc278425b49c762e7a661a816cf5cce18d\n",
            "記事の内容: 「お名前ドットコム」に出品されていた「ドコモ口座」のドメイン　2021年に終了した、NTTドコモのウォレットサービス「ドコモ口座」のドメイン「docomokouza.jp」が、GMOインターネットのドメイン登録サービスでオークションに掛けられていた件について、ドコモは原因を「社内管理の不手際」と説明した。加えて、出品されていたドメインはドコモが取り戻しており、現在同社の管理下にあることも明かした。\n",
            "\n",
            "【画像はこちら】402万円で落札された「ドコモ口座」のドメイン、実はドコモが取り戻していた（他3枚）\n",
            "\n",
            "　ドコモは現在、各サービスのドメインを「docomo.ne.jp」へ統合する作業を進めており、現在使用しているもの、すでに使用をやめたものを含め同社の専門部署で一括管理しているという。そのうえで「dokomokouza.jp」については、社内管理の不手際により、一時的にドコモの保有ではなくなっていたとしている。\n",
            "\n",
            "　今回の「docomokouza.jp」はドコモが取り戻したため不正利用される心配はなくなったが、こうしたドコモ保有のドメインを失った場合はどういった対応を取るのだろうか。同社は「弊社の商号、商標を含むドメインが第三者に取得されて不正に利用された場合は、JP-DRP（JPドメイン名紛争処理方針）という公的な指針によって必要な措置をすみやかに取る」としている。\n",
            "\n",
            "　JP-DRPは、ドメインにまつわる商標権者とドメイン登録者の紛争処理に関する規約を定めたもの。ドメイン名の不正登録・使用を回避するためのもので、ドメインの転売や商標権者のドメイン取得の妨害、ユーザー誤認を狙って第三者の商標を不正に登録することなどを防ぐ。もし申し立てが認められれば、ドメインの取り戻しか抹消が可能となる。\n",
            "\n",
            "　ドコモも「いろいろなケースがあるが、抹消や移転などの弊社側に戻すケースなどがある」と説明する。そのため、もし第三者の手に渡ったとしても完全にコントロールできない状態に陥るわけではないようだ。\n",
            "\n",
            "　なお、オークション自体にドコモが参加していたかについては「回答を差し控えさせていただく」と明かされなかった。そのため、ドメインを402万円で落札したのがドコモ自身だったのかについては不明のままだ。\n"
          ]
        }
      ]
    }
  ]
}